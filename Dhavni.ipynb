{
  "nbformat": 4,
  "nbformat_minor": 0,
  "metadata": {
    "colab": {
      "provenance": [],
      "authorship_tag": "ABX9TyPzjJTupfBs+uC/OYqUue/u",
      "include_colab_link": true
    },
    "kernelspec": {
      "name": "python3",
      "display_name": "Python 3"
    },
    "language_info": {
      "name": "python"
    }
  },
  "cells": [
    {
      "cell_type": "markdown",
      "metadata": {
        "id": "view-in-github",
        "colab_type": "text"
      },
      "source": [
        "<a href=\"https://colab.research.google.com/github/LogeshkumarTamilselvam/Task./blob/main/Dhavni.ipynb\" target=\"_parent\"><img src=\"https://colab.research.google.com/assets/colab-badge.svg\" alt=\"Open In Colab\"/></a>"
      ]
    },
    {
      "cell_type": "code",
      "execution_count": 2,
      "metadata": {
        "id": "bhsxbF7jPaqe"
      },
      "outputs": [],
      "source": [
        "#Import the all python library\n",
        "import tensorflow.keras\n",
        "from PIL import Image, ImageOps\n",
        "import numpy as np\n",
        "import cv2\n",
        "from google.colab.patches import cv2_imshow\n",
        "import numpy as np\n",
        "import matplotlib.pyplot as plt\n",
        "from mpl_toolkits.mplot3d import Axes3D"
      ]
    },
    {
      "cell_type": "code",
      "source": [
        "def detect_defects(image_path, output_path):\n",
        "\n",
        "    if image is None:\n",
        "        print(\"Error: Unable to load the image from\", image_path)\n",
        "        return []\n",
        "\n",
        "\n",
        "    # First Load the image what ever given\n",
        "    image = cv2.imread(image_path, cv2.IMREAD_COLOR)\n",
        "\n",
        "    # Next Convert the image to grayscale for easy to process the image\n",
        "    gray_image = cv2.cvtColor(image, cv2.COLOR_BGR2GRAY)\n",
        "\n",
        "    # to remove any noise, we must smoothen the image. Smoothening is done with the help of Gaussian Blur.\n",
        "    blurred_image = cv2.GaussianBlur(gray_image, (5, 5), 0)\n",
        "\n",
        "    # to detect the edges and after the edges have been smoothed using an appropriate threshold value.\n",
        "    edges = cv2.Canny(blurred_image, threshold1=30, threshold2=100)\n",
        "\n",
        "    # Edge detection works by detecting discontinuities in brightness\n",
        "    contours, _ = cv2.findContours(edges, cv2.RETR_EXTERNAL, cv2.CHAIN_APPROX_SIMPLE)\n",
        "\n",
        "    # Initialize a list to store detected defects\n",
        "    detected_defects = []\n",
        "\n",
        "    # setting the threshold parameter of the “predict” method. (adjust as needed)\n",
        "    min_defect_area = 100\n",
        "\n",
        "    # Loop through the detected contours\n",
        "    for contour in contours:\n",
        "        # Calculate the area of the contour\n",
        "        area = cv2.contourArea(contour)\n",
        "\n",
        "\n",
        "        if area < min_defect_area:\n",
        "            # Get the bounding box of the contour\n",
        "            x, y, w, h = cv2.boundingRect(contour)\n",
        "\n",
        "            # Draw a rectangle around the potential defect\n",
        "            cv2.rectangle(image, (x, y), (x + w, y + h), (0, 0, 255), 2)\n",
        "\n",
        "            # Store the coordinates of the detected defect\n",
        "            detected_defects.append((x, y, w, h))\n",
        "\n",
        "    # Save the image with detected defects\n",
        "    cv2.imwrite(output_path, image)\n",
        "\n",
        "    # Return the list of detected defects\n",
        "    return detected_defects\n",
        "\n",
        "\n",
        "# Example usage:\n",
        "image_path = \"defect1.png\"  # Update with your image file path\n",
        "output_path = \"output.png\"  # Specify the output image file path\n",
        "detected_defects = detect_defects(image_path, output_path)\n",
        "print(\"Detected defects:\", detected_defects)"
      ],
      "metadata": {
        "id": "tyYgDWAXPoUW"
      },
      "execution_count": null,
      "outputs": []
    },
    {
      "cell_type": "code",
      "source": [
        "import numpy as np\n",
        "import matplotlib.pyplot as plt\n",
        "from mpl_toolkits.mplot3d import Axes3D\n",
        "\n",
        "# Define parameters a, b, c, d, e, and f\n",
        "a, b, c, d, e, f = 1.0, 0.2, 0.1, 1.5, 1.0, 1.0\n",
        "\n",
        "# Define the time values (e.g., from 0 to 10 with a step of 0.01)\n",
        "t = np.arange(0, 10, 0.01)\n",
        "\n",
        "# Initialize arrays to store x, y, and z coordinates of the bee's path\n",
        "x = []\n",
        "y = []\n",
        "z = []\n",
        "\n",
        "# Calculate the bee's path over time using the equations\n",
        "for time in t:\n",
        "    x_val = a * np.sin(b * time)\n",
        "    y_val = c * np.cos(d * time)\n",
        "    z_val = e * np.sin(f * time)\n",
        "\n",
        "    x.append(x_val)\n",
        "    y.append(y_val)\n",
        "    z.append(z_val)\n",
        "\n",
        "# Create a 3D plot of the bee's path\n",
        "fig = plt.figure()\n",
        "ax = fig.add_subplot(111, projection='3d')\n",
        "ax.plot(x, y, z, label='Bee Path')\n",
        "ax.set_xlabel('X')\n",
        "ax.set_ylabel('Y')\n",
        "ax.set_zlabel('Z')\n",
        "ax.legend()\n",
        "\n",
        "# Show the plot\n",
        "plt.show()"
      ],
      "metadata": {
        "id": "eMFLhudYdREd"
      },
      "execution_count": null,
      "outputs": []
    }
  ]
}